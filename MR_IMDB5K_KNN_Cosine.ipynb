{
  "cells": [
    {
      "cell_type": "markdown",
      "metadata": {
        "id": "view-in-github",
        "colab_type": "text"
      },
      "source": [
        "<a href=\"https://colab.research.google.com/github/shresthar6/Movie-Recommendation-System/blob/main/MR_IMDB5K_KNN_Cosine.ipynb\" target=\"_parent\"><img src=\"https://colab.research.google.com/assets/colab-badge.svg\" alt=\"Open In Colab\"/></a>"
      ]
    },
    {
      "cell_type": "markdown",
      "id": "26d3e37d",
      "metadata": {
        "pycharm": {
          "name": "#%% md\n"
        },
        "id": "26d3e37d"
      },
      "source": [
        "# Movie Recommendation System\n",
        "\n",
        "#### Dataset IMDB 5000 Movie Dataset\n",
        "#### Method: CosineSimilarity + K-Nearest Neighbors"
      ]
    },
    {
      "cell_type": "code",
      "execution_count": null,
      "id": "e119b70d",
      "metadata": {
        "pycharm": {
          "name": "#%%\n"
        },
        "id": "e119b70d"
      },
      "outputs": [],
      "source": [
        "import pandas as pd\n",
        "import matplotlib.pyplot as plt\n",
        "import numpy as np"
      ]
    },
    {
      "cell_type": "markdown",
      "id": "860dfc2b",
      "metadata": {
        "pycharm": {
          "name": "#%% md\n"
        },
        "id": "860dfc2b"
      },
      "source": [
        "## Dataset"
      ]
    },
    {
      "cell_type": "code",
      "execution_count": null,
      "id": "d4d6dfbe",
      "metadata": {
        "pycharm": {
          "name": "#%%\n"
        },
        "id": "d4d6dfbe"
      },
      "outputs": [],
      "source": [
        "movie_data = pd.read_csv('movie_metadata.csv')"
      ]
    },
    {
      "cell_type": "code",
      "execution_count": null,
      "id": "622f267c",
      "metadata": {
        "pycharm": {
          "name": "#%%\n"
        },
        "id": "622f267c",
        "outputId": "781c2bb1-1639-440f-e686-6da306cd9490"
      },
      "outputs": [
        {
          "data": {
            "text/html": [
              "<div>\n",
              "<style scoped>\n",
              "    .dataframe tbody tr th:only-of-type {\n",
              "        vertical-align: middle;\n",
              "    }\n",
              "\n",
              "    .dataframe tbody tr th {\n",
              "        vertical-align: top;\n",
              "    }\n",
              "\n",
              "    .dataframe thead th {\n",
              "        text-align: right;\n",
              "    }\n",
              "</style>\n",
              "<table border=\"1\" class=\"dataframe\">\n",
              "  <thead>\n",
              "    <tr style=\"text-align: right;\">\n",
              "      <th></th>\n",
              "      <th>color</th>\n",
              "      <th>director_name</th>\n",
              "      <th>num_critic_for_reviews</th>\n",
              "      <th>duration</th>\n",
              "      <th>director_facebook_likes</th>\n",
              "      <th>actor_3_facebook_likes</th>\n",
              "      <th>actor_2_name</th>\n",
              "      <th>actor_1_facebook_likes</th>\n",
              "      <th>gross</th>\n",
              "      <th>genres</th>\n",
              "      <th>...</th>\n",
              "      <th>num_user_for_reviews</th>\n",
              "      <th>language</th>\n",
              "      <th>country</th>\n",
              "      <th>content_rating</th>\n",
              "      <th>budget</th>\n",
              "      <th>title_year</th>\n",
              "      <th>actor_2_facebook_likes</th>\n",
              "      <th>imdb_score</th>\n",
              "      <th>aspect_ratio</th>\n",
              "      <th>movie_facebook_likes</th>\n",
              "    </tr>\n",
              "  </thead>\n",
              "  <tbody>\n",
              "    <tr>\n",
              "      <th>0</th>\n",
              "      <td>Color</td>\n",
              "      <td>James Cameron</td>\n",
              "      <td>723.0</td>\n",
              "      <td>178.0</td>\n",
              "      <td>0.0</td>\n",
              "      <td>855.0</td>\n",
              "      <td>Joel David Moore</td>\n",
              "      <td>1000.0</td>\n",
              "      <td>760505847.0</td>\n",
              "      <td>Action|Adventure|Fantasy|Sci-Fi</td>\n",
              "      <td>...</td>\n",
              "      <td>3054.0</td>\n",
              "      <td>English</td>\n",
              "      <td>USA</td>\n",
              "      <td>PG-13</td>\n",
              "      <td>237000000.0</td>\n",
              "      <td>2009.0</td>\n",
              "      <td>936.0</td>\n",
              "      <td>7.9</td>\n",
              "      <td>1.78</td>\n",
              "      <td>33000</td>\n",
              "    </tr>\n",
              "    <tr>\n",
              "      <th>1</th>\n",
              "      <td>Color</td>\n",
              "      <td>Gore Verbinski</td>\n",
              "      <td>302.0</td>\n",
              "      <td>169.0</td>\n",
              "      <td>563.0</td>\n",
              "      <td>1000.0</td>\n",
              "      <td>Orlando Bloom</td>\n",
              "      <td>40000.0</td>\n",
              "      <td>309404152.0</td>\n",
              "      <td>Action|Adventure|Fantasy</td>\n",
              "      <td>...</td>\n",
              "      <td>1238.0</td>\n",
              "      <td>English</td>\n",
              "      <td>USA</td>\n",
              "      <td>PG-13</td>\n",
              "      <td>300000000.0</td>\n",
              "      <td>2007.0</td>\n",
              "      <td>5000.0</td>\n",
              "      <td>7.1</td>\n",
              "      <td>2.35</td>\n",
              "      <td>0</td>\n",
              "    </tr>\n",
              "    <tr>\n",
              "      <th>2</th>\n",
              "      <td>Color</td>\n",
              "      <td>Sam Mendes</td>\n",
              "      <td>602.0</td>\n",
              "      <td>148.0</td>\n",
              "      <td>0.0</td>\n",
              "      <td>161.0</td>\n",
              "      <td>Rory Kinnear</td>\n",
              "      <td>11000.0</td>\n",
              "      <td>200074175.0</td>\n",
              "      <td>Action|Adventure|Thriller</td>\n",
              "      <td>...</td>\n",
              "      <td>994.0</td>\n",
              "      <td>English</td>\n",
              "      <td>UK</td>\n",
              "      <td>PG-13</td>\n",
              "      <td>245000000.0</td>\n",
              "      <td>2015.0</td>\n",
              "      <td>393.0</td>\n",
              "      <td>6.8</td>\n",
              "      <td>2.35</td>\n",
              "      <td>85000</td>\n",
              "    </tr>\n",
              "    <tr>\n",
              "      <th>3</th>\n",
              "      <td>Color</td>\n",
              "      <td>Christopher Nolan</td>\n",
              "      <td>813.0</td>\n",
              "      <td>164.0</td>\n",
              "      <td>22000.0</td>\n",
              "      <td>23000.0</td>\n",
              "      <td>Christian Bale</td>\n",
              "      <td>27000.0</td>\n",
              "      <td>448130642.0</td>\n",
              "      <td>Action|Thriller</td>\n",
              "      <td>...</td>\n",
              "      <td>2701.0</td>\n",
              "      <td>English</td>\n",
              "      <td>USA</td>\n",
              "      <td>PG-13</td>\n",
              "      <td>250000000.0</td>\n",
              "      <td>2012.0</td>\n",
              "      <td>23000.0</td>\n",
              "      <td>8.5</td>\n",
              "      <td>2.35</td>\n",
              "      <td>164000</td>\n",
              "    </tr>\n",
              "    <tr>\n",
              "      <th>4</th>\n",
              "      <td>NaN</td>\n",
              "      <td>Doug Walker</td>\n",
              "      <td>NaN</td>\n",
              "      <td>NaN</td>\n",
              "      <td>131.0</td>\n",
              "      <td>NaN</td>\n",
              "      <td>Rob Walker</td>\n",
              "      <td>131.0</td>\n",
              "      <td>NaN</td>\n",
              "      <td>Documentary</td>\n",
              "      <td>...</td>\n",
              "      <td>NaN</td>\n",
              "      <td>NaN</td>\n",
              "      <td>NaN</td>\n",
              "      <td>NaN</td>\n",
              "      <td>NaN</td>\n",
              "      <td>NaN</td>\n",
              "      <td>12.0</td>\n",
              "      <td>7.1</td>\n",
              "      <td>NaN</td>\n",
              "      <td>0</td>\n",
              "    </tr>\n",
              "  </tbody>\n",
              "</table>\n",
              "<p>5 rows × 28 columns</p>\n",
              "</div>"
            ],
            "text/plain": [
              "   color      director_name  num_critic_for_reviews  duration  \\\n",
              "0  Color      James Cameron                   723.0     178.0   \n",
              "1  Color     Gore Verbinski                   302.0     169.0   \n",
              "2  Color         Sam Mendes                   602.0     148.0   \n",
              "3  Color  Christopher Nolan                   813.0     164.0   \n",
              "4    NaN        Doug Walker                     NaN       NaN   \n",
              "\n",
              "   director_facebook_likes  actor_3_facebook_likes      actor_2_name  \\\n",
              "0                      0.0                   855.0  Joel David Moore   \n",
              "1                    563.0                  1000.0     Orlando Bloom   \n",
              "2                      0.0                   161.0      Rory Kinnear   \n",
              "3                  22000.0                 23000.0    Christian Bale   \n",
              "4                    131.0                     NaN        Rob Walker   \n",
              "\n",
              "   actor_1_facebook_likes        gross                           genres  ...  \\\n",
              "0                  1000.0  760505847.0  Action|Adventure|Fantasy|Sci-Fi  ...   \n",
              "1                 40000.0  309404152.0         Action|Adventure|Fantasy  ...   \n",
              "2                 11000.0  200074175.0        Action|Adventure|Thriller  ...   \n",
              "3                 27000.0  448130642.0                  Action|Thriller  ...   \n",
              "4                   131.0          NaN                      Documentary  ...   \n",
              "\n",
              "  num_user_for_reviews language  country  content_rating       budget  \\\n",
              "0               3054.0  English      USA           PG-13  237000000.0   \n",
              "1               1238.0  English      USA           PG-13  300000000.0   \n",
              "2                994.0  English       UK           PG-13  245000000.0   \n",
              "3               2701.0  English      USA           PG-13  250000000.0   \n",
              "4                  NaN      NaN      NaN             NaN          NaN   \n",
              "\n",
              "   title_year actor_2_facebook_likes imdb_score  aspect_ratio  \\\n",
              "0      2009.0                  936.0        7.9          1.78   \n",
              "1      2007.0                 5000.0        7.1          2.35   \n",
              "2      2015.0                  393.0        6.8          2.35   \n",
              "3      2012.0                23000.0        8.5          2.35   \n",
              "4         NaN                   12.0        7.1           NaN   \n",
              "\n",
              "  movie_facebook_likes  \n",
              "0                33000  \n",
              "1                    0  \n",
              "2                85000  \n",
              "3               164000  \n",
              "4                    0  \n",
              "\n",
              "[5 rows x 28 columns]"
            ]
          },
          "execution_count": 3,
          "metadata": {},
          "output_type": "execute_result"
        }
      ],
      "source": [
        "# check the basic dataset format\n",
        "movie_data.head()"
      ]
    },
    {
      "cell_type": "code",
      "execution_count": null,
      "id": "e12bbbbe",
      "metadata": {
        "pycharm": {
          "name": "#%%\n"
        },
        "id": "e12bbbbe",
        "outputId": "7151f439-1674-4972-ae64-f93a91a69e7b"
      },
      "outputs": [
        {
          "data": {
            "text/plain": [
              "Index(['color', 'director_name', 'num_critic_for_reviews', 'duration',\n",
              "       'director_facebook_likes', 'actor_3_facebook_likes', 'actor_2_name',\n",
              "       'actor_1_facebook_likes', 'gross', 'genres', 'actor_1_name',\n",
              "       'movie_title', 'num_voted_users', 'cast_total_facebook_likes',\n",
              "       'actor_3_name', 'facenumber_in_poster', 'plot_keywords',\n",
              "       'movie_imdb_link', 'num_user_for_reviews', 'language', 'country',\n",
              "       'content_rating', 'budget', 'title_year', 'actor_2_facebook_likes',\n",
              "       'imdb_score', 'aspect_ratio', 'movie_facebook_likes'],\n",
              "      dtype='object')"
            ]
          },
          "execution_count": 4,
          "metadata": {},
          "output_type": "execute_result"
        }
      ],
      "source": [
        "# check the column names\n",
        "movie_data.columns"
      ]
    },
    {
      "cell_type": "code",
      "execution_count": null,
      "id": "fc1ba559",
      "metadata": {
        "pycharm": {
          "name": "#%%\n"
        },
        "id": "fc1ba559",
        "outputId": "07301786-a133-426d-9cbf-12f7deff4fe9"
      },
      "outputs": [
        {
          "data": {
            "text/plain": [
              "(5043, 28)"
            ]
          },
          "execution_count": 5,
          "metadata": {},
          "output_type": "execute_result"
        }
      ],
      "source": [
        "# check the original dataset shape\n",
        "movie_data.shape"
      ]
    },
    {
      "cell_type": "code",
      "execution_count": null,
      "id": "03868640",
      "metadata": {
        "pycharm": {
          "name": "#%%\n"
        },
        "id": "03868640",
        "outputId": "c5afda88-8414-49fd-cd64-8bb2ebba7f5a"
      },
      "outputs": [
        {
          "name": "stdout",
          "output_type": "stream",
          "text": [
            "<class 'pandas.core.frame.DataFrame'>\n",
            "RangeIndex: 5043 entries, 0 to 5042\n",
            "Data columns (total 28 columns):\n",
            " #   Column                     Non-Null Count  Dtype  \n",
            "---  ------                     --------------  -----  \n",
            " 0   color                      5024 non-null   object \n",
            " 1   director_name              4939 non-null   object \n",
            " 2   num_critic_for_reviews     4993 non-null   float64\n",
            " 3   duration                   5028 non-null   float64\n",
            " 4   director_facebook_likes    4939 non-null   float64\n",
            " 5   actor_3_facebook_likes     5020 non-null   float64\n",
            " 6   actor_2_name               5030 non-null   object \n",
            " 7   actor_1_facebook_likes     5036 non-null   float64\n",
            " 8   gross                      4159 non-null   float64\n",
            " 9   genres                     5043 non-null   object \n",
            " 10  actor_1_name               5036 non-null   object \n",
            " 11  movie_title                5043 non-null   object \n",
            " 12  num_voted_users            5043 non-null   int64  \n",
            " 13  cast_total_facebook_likes  5043 non-null   int64  \n",
            " 14  actor_3_name               5020 non-null   object \n",
            " 15  facenumber_in_poster       5030 non-null   float64\n",
            " 16  plot_keywords              4890 non-null   object \n",
            " 17  movie_imdb_link            5043 non-null   object \n",
            " 18  num_user_for_reviews       5022 non-null   float64\n",
            " 19  language                   5031 non-null   object \n",
            " 20  country                    5038 non-null   object \n",
            " 21  content_rating             4740 non-null   object \n",
            " 22  budget                     4551 non-null   float64\n",
            " 23  title_year                 4935 non-null   float64\n",
            " 24  actor_2_facebook_likes     5030 non-null   float64\n",
            " 25  imdb_score                 5043 non-null   float64\n",
            " 26  aspect_ratio               4714 non-null   float64\n",
            " 27  movie_facebook_likes       5043 non-null   int64  \n",
            "dtypes: float64(13), int64(3), object(12)\n",
            "memory usage: 1.1+ MB\n"
          ]
        }
      ],
      "source": [
        "# check the dataset information\n",
        "movie_data.info()"
      ]
    },
    {
      "cell_type": "code",
      "execution_count": null,
      "id": "b1897793",
      "metadata": {
        "pycharm": {
          "name": "#%%\n"
        },
        "id": "b1897793",
        "outputId": "62c375bb-2209-4269-daae-9abba96118c6"
      },
      "outputs": [
        {
          "data": {
            "text/plain": [
              "color                         19\n",
              "director_name                104\n",
              "num_critic_for_reviews        50\n",
              "duration                      15\n",
              "director_facebook_likes      104\n",
              "actor_3_facebook_likes        23\n",
              "actor_2_name                  13\n",
              "actor_1_facebook_likes         7\n",
              "gross                        884\n",
              "genres                         0\n",
              "actor_1_name                   7\n",
              "movie_title                    0\n",
              "num_voted_users                0\n",
              "cast_total_facebook_likes      0\n",
              "actor_3_name                  23\n",
              "facenumber_in_poster          13\n",
              "plot_keywords                153\n",
              "movie_imdb_link                0\n",
              "num_user_for_reviews          21\n",
              "language                      12\n",
              "country                        5\n",
              "content_rating               303\n",
              "budget                       492\n",
              "title_year                   108\n",
              "actor_2_facebook_likes        13\n",
              "imdb_score                     0\n",
              "aspect_ratio                 329\n",
              "movie_facebook_likes           0\n",
              "dtype: int64"
            ]
          },
          "execution_count": 7,
          "metadata": {},
          "output_type": "execute_result"
        }
      ],
      "source": [
        "# check the missing data in the dataset in terms of columns\n",
        "movie_data.isnull().sum()"
      ]
    },
    {
      "cell_type": "code",
      "execution_count": null,
      "id": "340776be",
      "metadata": {
        "pycharm": {
          "name": "#%%\n"
        },
        "id": "340776be",
        "outputId": "3afd04f1-11a3-43c5-e129-8baeb2cd294b"
      },
      "outputs": [
        {
          "data": {
            "text/plain": [
              "array(['Color', nan, ' Black and White'], dtype=object)"
            ]
          },
          "execution_count": 8,
          "metadata": {},
          "output_type": "execute_result"
        }
      ],
      "source": [
        "# check the unique feature values of the color feature column\n",
        "movie_data.color.unique()"
      ]
    },
    {
      "cell_type": "code",
      "execution_count": null,
      "id": "48b55d67",
      "metadata": {
        "pycharm": {
          "name": "#%%\n"
        },
        "id": "48b55d67",
        "outputId": "ba69fad3-d9c5-4bd9-8889-416f6f28ee78"
      },
      "outputs": [
        {
          "data": {
            "text/plain": [
              "array(['James Cameron', 'Gore Verbinski', 'Sam Mendes', ...,\n",
              "       'Scott Smith', 'Benjamin Roberds', 'Daniel Hsia'], dtype=object)"
            ]
          },
          "execution_count": 9,
          "metadata": {},
          "output_type": "execute_result"
        }
      ],
      "source": [
        "movie_data.director_name.unique()"
      ]
    },
    {
      "cell_type": "code",
      "execution_count": null,
      "id": "9bbc10c6",
      "metadata": {
        "pycharm": {
          "name": "#%%\n"
        },
        "id": "9bbc10c6",
        "outputId": "bdeb862a-0c3d-437a-a24f-8a4238f68dbf"
      },
      "outputs": [
        {
          "data": {
            "text/plain": [
              "2399"
            ]
          },
          "execution_count": 10,
          "metadata": {},
          "output_type": "execute_result"
        }
      ],
      "source": [
        "len(movie_data.director_name.unique())"
      ]
    },
    {
      "cell_type": "markdown",
      "id": "c3636f89",
      "metadata": {
        "pycharm": {
          "name": "#%% md\n"
        },
        "id": "c3636f89"
      },
      "source": [
        "## Data Cleaning\n",
        "\n",
        "In this project, we consider partial feature columns of the original dataset to build the movie recommendation system"
      ]
    },
    {
      "cell_type": "code",
      "execution_count": null,
      "id": "cfda9133",
      "metadata": {
        "pycharm": {
          "name": "#%%\n"
        },
        "id": "cfda9133"
      },
      "outputs": [],
      "source": [
        "movies = movie_data.loc[:, ['director_name','actor_1_name','actor_2_name','actor_3_name','genres','movie_title','plot_keywords']]"
      ]
    },
    {
      "cell_type": "code",
      "execution_count": null,
      "id": "516834bf",
      "metadata": {
        "pycharm": {
          "name": "#%%\n"
        },
        "id": "516834bf",
        "outputId": "3090692c-fb0e-4f41-9a59-4be67bef6bc7"
      },
      "outputs": [
        {
          "data": {
            "text/html": [
              "<div>\n",
              "<style scoped>\n",
              "    .dataframe tbody tr th:only-of-type {\n",
              "        vertical-align: middle;\n",
              "    }\n",
              "\n",
              "    .dataframe tbody tr th {\n",
              "        vertical-align: top;\n",
              "    }\n",
              "\n",
              "    .dataframe thead th {\n",
              "        text-align: right;\n",
              "    }\n",
              "</style>\n",
              "<table border=\"1\" class=\"dataframe\">\n",
              "  <thead>\n",
              "    <tr style=\"text-align: right;\">\n",
              "      <th></th>\n",
              "      <th>director_name</th>\n",
              "      <th>actor_1_name</th>\n",
              "      <th>actor_2_name</th>\n",
              "      <th>actor_3_name</th>\n",
              "      <th>genres</th>\n",
              "      <th>movie_title</th>\n",
              "      <th>plot_keywords</th>\n",
              "    </tr>\n",
              "  </thead>\n",
              "  <tbody>\n",
              "    <tr>\n",
              "      <th>0</th>\n",
              "      <td>James Cameron</td>\n",
              "      <td>CCH Pounder</td>\n",
              "      <td>Joel David Moore</td>\n",
              "      <td>Wes Studi</td>\n",
              "      <td>Action|Adventure|Fantasy|Sci-Fi</td>\n",
              "      <td>Avatar</td>\n",
              "      <td>avatar|future|marine|native|paraplegic</td>\n",
              "    </tr>\n",
              "    <tr>\n",
              "      <th>1</th>\n",
              "      <td>Gore Verbinski</td>\n",
              "      <td>Johnny Depp</td>\n",
              "      <td>Orlando Bloom</td>\n",
              "      <td>Jack Davenport</td>\n",
              "      <td>Action|Adventure|Fantasy</td>\n",
              "      <td>Pirates of the Caribbean: At World's End</td>\n",
              "      <td>goddess|marriage ceremony|marriage proposal|pi...</td>\n",
              "    </tr>\n",
              "    <tr>\n",
              "      <th>2</th>\n",
              "      <td>Sam Mendes</td>\n",
              "      <td>Christoph Waltz</td>\n",
              "      <td>Rory Kinnear</td>\n",
              "      <td>Stephanie Sigman</td>\n",
              "      <td>Action|Adventure|Thriller</td>\n",
              "      <td>Spectre</td>\n",
              "      <td>bomb|espionage|sequel|spy|terrorist</td>\n",
              "    </tr>\n",
              "    <tr>\n",
              "      <th>3</th>\n",
              "      <td>Christopher Nolan</td>\n",
              "      <td>Tom Hardy</td>\n",
              "      <td>Christian Bale</td>\n",
              "      <td>Joseph Gordon-Levitt</td>\n",
              "      <td>Action|Thriller</td>\n",
              "      <td>The Dark Knight Rises</td>\n",
              "      <td>deception|imprisonment|lawlessness|police offi...</td>\n",
              "    </tr>\n",
              "    <tr>\n",
              "      <th>4</th>\n",
              "      <td>Doug Walker</td>\n",
              "      <td>Doug Walker</td>\n",
              "      <td>Rob Walker</td>\n",
              "      <td>NaN</td>\n",
              "      <td>Documentary</td>\n",
              "      <td>Star Wars: Episode VII - The Force Awakens    ...</td>\n",
              "      <td>NaN</td>\n",
              "    </tr>\n",
              "  </tbody>\n",
              "</table>\n",
              "</div>"
            ],
            "text/plain": [
              "       director_name     actor_1_name      actor_2_name          actor_3_name  \\\n",
              "0      James Cameron      CCH Pounder  Joel David Moore             Wes Studi   \n",
              "1     Gore Verbinski      Johnny Depp     Orlando Bloom        Jack Davenport   \n",
              "2         Sam Mendes  Christoph Waltz      Rory Kinnear      Stephanie Sigman   \n",
              "3  Christopher Nolan        Tom Hardy    Christian Bale  Joseph Gordon-Levitt   \n",
              "4        Doug Walker      Doug Walker        Rob Walker                   NaN   \n",
              "\n",
              "                            genres  \\\n",
              "0  Action|Adventure|Fantasy|Sci-Fi   \n",
              "1         Action|Adventure|Fantasy   \n",
              "2        Action|Adventure|Thriller   \n",
              "3                  Action|Thriller   \n",
              "4                      Documentary   \n",
              "\n",
              "                                         movie_title  \\\n",
              "0                                            Avatar    \n",
              "1          Pirates of the Caribbean: At World's End    \n",
              "2                                           Spectre    \n",
              "3                             The Dark Knight Rises    \n",
              "4  Star Wars: Episode VII - The Force Awakens    ...   \n",
              "\n",
              "                                       plot_keywords  \n",
              "0             avatar|future|marine|native|paraplegic  \n",
              "1  goddess|marriage ceremony|marriage proposal|pi...  \n",
              "2                bomb|espionage|sequel|spy|terrorist  \n",
              "3  deception|imprisonment|lawlessness|police offi...  \n",
              "4                                                NaN  "
            ]
          },
          "execution_count": 12,
          "metadata": {},
          "output_type": "execute_result"
        }
      ],
      "source": [
        "movies.head()"
      ]
    },
    {
      "cell_type": "code",
      "execution_count": null,
      "id": "ab6c9ea8",
      "metadata": {
        "pycharm": {
          "name": "#%%\n"
        },
        "id": "ab6c9ea8"
      },
      "outputs": [],
      "source": [
        "# then we replace the missing values marked as NaN with new value, i.e., 'unknown'\n",
        "movies['actor_1_name'] = movies['actor_1_name'].replace(np.nan, 'unknown')\n",
        "movies['actor_2_name'] = movies['actor_2_name'].replace(np.nan, 'unknown')\n",
        "movies['actor_3_name'] = movies['actor_3_name'].replace(np.nan, 'unknown')\n",
        "movies['director_name'] = movies['director_name'].replace(np.nan, 'unknown')\n",
        "movies['plot_keywords'] = movies['plot_keywords'].replace(np.nan, 'unknown')"
      ]
    },
    {
      "cell_type": "code",
      "execution_count": null,
      "id": "5e9a97ea",
      "metadata": {
        "pycharm": {
          "name": "#%%\n"
        },
        "id": "5e9a97ea",
        "outputId": "5f084c61-dac2-4e94-ccf7-4bd2f486523c"
      },
      "outputs": [
        {
          "data": {
            "text/html": [
              "<div>\n",
              "<style scoped>\n",
              "    .dataframe tbody tr th:only-of-type {\n",
              "        vertical-align: middle;\n",
              "    }\n",
              "\n",
              "    .dataframe tbody tr th {\n",
              "        vertical-align: top;\n",
              "    }\n",
              "\n",
              "    .dataframe thead th {\n",
              "        text-align: right;\n",
              "    }\n",
              "</style>\n",
              "<table border=\"1\" class=\"dataframe\">\n",
              "  <thead>\n",
              "    <tr style=\"text-align: right;\">\n",
              "      <th></th>\n",
              "      <th>director_name</th>\n",
              "      <th>actor_1_name</th>\n",
              "      <th>actor_2_name</th>\n",
              "      <th>actor_3_name</th>\n",
              "      <th>genres</th>\n",
              "      <th>movie_title</th>\n",
              "      <th>plot_keywords</th>\n",
              "    </tr>\n",
              "  </thead>\n",
              "  <tbody>\n",
              "    <tr>\n",
              "      <th>0</th>\n",
              "      <td>James Cameron</td>\n",
              "      <td>CCH Pounder</td>\n",
              "      <td>Joel David Moore</td>\n",
              "      <td>Wes Studi</td>\n",
              "      <td>Action|Adventure|Fantasy|Sci-Fi</td>\n",
              "      <td>Avatar</td>\n",
              "      <td>avatar|future|marine|native|paraplegic</td>\n",
              "    </tr>\n",
              "    <tr>\n",
              "      <th>1</th>\n",
              "      <td>Gore Verbinski</td>\n",
              "      <td>Johnny Depp</td>\n",
              "      <td>Orlando Bloom</td>\n",
              "      <td>Jack Davenport</td>\n",
              "      <td>Action|Adventure|Fantasy</td>\n",
              "      <td>Pirates of the Caribbean: At World's End</td>\n",
              "      <td>goddess|marriage ceremony|marriage proposal|pi...</td>\n",
              "    </tr>\n",
              "    <tr>\n",
              "      <th>2</th>\n",
              "      <td>Sam Mendes</td>\n",
              "      <td>Christoph Waltz</td>\n",
              "      <td>Rory Kinnear</td>\n",
              "      <td>Stephanie Sigman</td>\n",
              "      <td>Action|Adventure|Thriller</td>\n",
              "      <td>Spectre</td>\n",
              "      <td>bomb|espionage|sequel|spy|terrorist</td>\n",
              "    </tr>\n",
              "    <tr>\n",
              "      <th>3</th>\n",
              "      <td>Christopher Nolan</td>\n",
              "      <td>Tom Hardy</td>\n",
              "      <td>Christian Bale</td>\n",
              "      <td>Joseph Gordon-Levitt</td>\n",
              "      <td>Action|Thriller</td>\n",
              "      <td>The Dark Knight Rises</td>\n",
              "      <td>deception|imprisonment|lawlessness|police offi...</td>\n",
              "    </tr>\n",
              "    <tr>\n",
              "      <th>4</th>\n",
              "      <td>Doug Walker</td>\n",
              "      <td>Doug Walker</td>\n",
              "      <td>Rob Walker</td>\n",
              "      <td>unknown</td>\n",
              "      <td>Documentary</td>\n",
              "      <td>Star Wars: Episode VII - The Force Awakens    ...</td>\n",
              "      <td>unknown</td>\n",
              "    </tr>\n",
              "  </tbody>\n",
              "</table>\n",
              "</div>"
            ],
            "text/plain": [
              "       director_name     actor_1_name      actor_2_name          actor_3_name  \\\n",
              "0      James Cameron      CCH Pounder  Joel David Moore             Wes Studi   \n",
              "1     Gore Verbinski      Johnny Depp     Orlando Bloom        Jack Davenport   \n",
              "2         Sam Mendes  Christoph Waltz      Rory Kinnear      Stephanie Sigman   \n",
              "3  Christopher Nolan        Tom Hardy    Christian Bale  Joseph Gordon-Levitt   \n",
              "4        Doug Walker      Doug Walker        Rob Walker               unknown   \n",
              "\n",
              "                            genres  \\\n",
              "0  Action|Adventure|Fantasy|Sci-Fi   \n",
              "1         Action|Adventure|Fantasy   \n",
              "2        Action|Adventure|Thriller   \n",
              "3                  Action|Thriller   \n",
              "4                      Documentary   \n",
              "\n",
              "                                         movie_title  \\\n",
              "0                                            Avatar    \n",
              "1          Pirates of the Caribbean: At World's End    \n",
              "2                                           Spectre    \n",
              "3                             The Dark Knight Rises    \n",
              "4  Star Wars: Episode VII - The Force Awakens    ...   \n",
              "\n",
              "                                       plot_keywords  \n",
              "0             avatar|future|marine|native|paraplegic  \n",
              "1  goddess|marriage ceremony|marriage proposal|pi...  \n",
              "2                bomb|espionage|sequel|spy|terrorist  \n",
              "3  deception|imprisonment|lawlessness|police offi...  \n",
              "4                                            unknown  "
            ]
          },
          "execution_count": 14,
          "metadata": {},
          "output_type": "execute_result"
        }
      ],
      "source": [
        "movies.head()"
      ]
    },
    {
      "cell_type": "code",
      "execution_count": null,
      "id": "70e7c467",
      "metadata": {
        "pycharm": {
          "name": "#%%\n"
        },
        "id": "70e7c467"
      },
      "outputs": [],
      "source": [
        "# drop duplicate values\n",
        "movies.drop_duplicates(subset=\"movie_title\", keep='last',inplace=True)"
      ]
    },
    {
      "cell_type": "code",
      "execution_count": null,
      "id": "6649fbf3",
      "metadata": {
        "pycharm": {
          "name": "#%%\n"
        },
        "id": "6649fbf3",
        "outputId": "29d872b0-2eb8-43ec-e2c5-50d836a82d8d"
      },
      "outputs": [
        {
          "data": {
            "text/plain": [
              "(4917, 7)"
            ]
          },
          "execution_count": 16,
          "metadata": {},
          "output_type": "execute_result"
        }
      ],
      "source": [
        "# now check the shape again\n",
        "movies.shape"
      ]
    },
    {
      "cell_type": "code",
      "execution_count": null,
      "id": "3ae8dc20",
      "metadata": {
        "pycharm": {
          "name": "#%%\n"
        },
        "id": "3ae8dc20",
        "outputId": "e81b8ff7-ebb5-4158-850a-e7138038976c"
      },
      "outputs": [
        {
          "data": {
            "text/plain": [
              "director_name    0\n",
              "actor_1_name     0\n",
              "actor_2_name     0\n",
              "actor_3_name     0\n",
              "genres           0\n",
              "movie_title      0\n",
              "plot_keywords    0\n",
              "dtype: int64"
            ]
          },
          "execution_count": 17,
          "metadata": {},
          "output_type": "execute_result"
        }
      ],
      "source": [
        "movies.isnull().sum()"
      ]
    },
    {
      "cell_type": "code",
      "execution_count": null,
      "id": "ef35eecf",
      "metadata": {
        "pycharm": {
          "name": "#%%\n"
        },
        "id": "ef35eecf",
        "outputId": "49526310-3d0a-4e46-db17-80976c7f8b3d"
      },
      "outputs": [
        {
          "data": {
            "text/plain": [
              "director_name    0\n",
              "actor_1_name     0\n",
              "actor_2_name     0\n",
              "actor_3_name     0\n",
              "genres           0\n",
              "movie_title      0\n",
              "plot_keywords    0\n",
              "dtype: int64"
            ]
          },
          "execution_count": 18,
          "metadata": {},
          "output_type": "execute_result"
        }
      ],
      "source": [
        "# Then we drop the missing values that cannot filled properly above\n",
        "movies = movies.dropna()\n",
        "movies = movies.reset_index(drop=True)\n",
        "movies.isnull().sum()"
      ]
    },
    {
      "cell_type": "code",
      "execution_count": null,
      "id": "e0c39462",
      "metadata": {
        "pycharm": {
          "name": "#%%\n"
        },
        "id": "e0c39462",
        "outputId": "067abc1e-26cd-427b-ddda-24914754c8f0"
      },
      "outputs": [
        {
          "data": {
            "text/html": [
              "<div>\n",
              "<style scoped>\n",
              "    .dataframe tbody tr th:only-of-type {\n",
              "        vertical-align: middle;\n",
              "    }\n",
              "\n",
              "    .dataframe tbody tr th {\n",
              "        vertical-align: top;\n",
              "    }\n",
              "\n",
              "    .dataframe thead th {\n",
              "        text-align: right;\n",
              "    }\n",
              "</style>\n",
              "<table border=\"1\" class=\"dataframe\">\n",
              "  <thead>\n",
              "    <tr style=\"text-align: right;\">\n",
              "      <th></th>\n",
              "      <th>director_name</th>\n",
              "      <th>actor_1_name</th>\n",
              "      <th>actor_2_name</th>\n",
              "      <th>actor_3_name</th>\n",
              "      <th>genres</th>\n",
              "      <th>movie_title</th>\n",
              "      <th>plot_keywords</th>\n",
              "    </tr>\n",
              "  </thead>\n",
              "  <tbody>\n",
              "    <tr>\n",
              "      <th>567</th>\n",
              "      <td>Oliver Stone</td>\n",
              "      <td>Frank Langella</td>\n",
              "      <td>Austin Pendleton</td>\n",
              "      <td>John Buffalo Mailer</td>\n",
              "      <td>Drama</td>\n",
              "      <td>Wall Street: Money Never Sleeps</td>\n",
              "      <td>corporate greed|crisis|economy|greed|mentor</td>\n",
              "    </tr>\n",
              "    <tr>\n",
              "      <th>628</th>\n",
              "      <td>Mike Newell</td>\n",
              "      <td>Julia Roberts</td>\n",
              "      <td>Kirsten Dunst</td>\n",
              "      <td>Marian Seldes</td>\n",
              "      <td>Drama</td>\n",
              "      <td>Mona Lisa Smile</td>\n",
              "      <td>art|college|school|student|wellesley college</td>\n",
              "    </tr>\n",
              "    <tr>\n",
              "      <th>642</th>\n",
              "      <td>David Fincher</td>\n",
              "      <td>Brad Pitt</td>\n",
              "      <td>Meat Loaf</td>\n",
              "      <td>Eugenie Bondurant</td>\n",
              "      <td>Drama</td>\n",
              "      <td>Fight Club</td>\n",
              "      <td>anti establishment|dark humor|fighting|multipl...</td>\n",
              "    </tr>\n",
              "    <tr>\n",
              "      <th>709</th>\n",
              "      <td>Steven Zaillian</td>\n",
              "      <td>Robert Duvall</td>\n",
              "      <td>Kathleen Quinlan</td>\n",
              "      <td>Sydney Pollack</td>\n",
              "      <td>Drama</td>\n",
              "      <td>A Civil Action</td>\n",
              "      <td>1980s|law firm|lawsuit|lawyer|toxic waste</td>\n",
              "    </tr>\n",
              "    <tr>\n",
              "      <th>1094</th>\n",
              "      <td>Gus Van Sant</td>\n",
              "      <td>F. Murray Abraham</td>\n",
              "      <td>Rob Brown</td>\n",
              "      <td>Michael Nouri</td>\n",
              "      <td>Drama</td>\n",
              "      <td>Finding Forrester</td>\n",
              "      <td>basketball|mentor|new york|school|writing</td>\n",
              "    </tr>\n",
              "    <tr>\n",
              "      <th>...</th>\n",
              "      <td>...</td>\n",
              "      <td>...</td>\n",
              "      <td>...</td>\n",
              "      <td>...</td>\n",
              "      <td>...</td>\n",
              "      <td>...</td>\n",
              "      <td>...</td>\n",
              "    </tr>\n",
              "    <tr>\n",
              "      <th>4877</th>\n",
              "      <td>Bradley Rust Gray</td>\n",
              "      <td>Zoe Kazan</td>\n",
              "      <td>Mark Rendall</td>\n",
              "      <td>Jordan Scovel</td>\n",
              "      <td>Drama</td>\n",
              "      <td>The Exploding Girl</td>\n",
              "      <td>friend|hospital|low budget film|ring|stoned</td>\n",
              "    </tr>\n",
              "    <tr>\n",
              "      <th>4892</th>\n",
              "      <td>Alex Kendrick</td>\n",
              "      <td>Shannen Fields</td>\n",
              "      <td>Lisa Arnold</td>\n",
              "      <td>Janet Lee Dapper</td>\n",
              "      <td>Drama</td>\n",
              "      <td>Flywheel</td>\n",
              "      <td>baby|car salesman|christian film|pregnancy|use...</td>\n",
              "    </tr>\n",
              "    <tr>\n",
              "      <th>4896</th>\n",
              "      <td>Jim Chuchu</td>\n",
              "      <td>Paul Ogola</td>\n",
              "      <td>Olwenya Maina</td>\n",
              "      <td>Mugambi Nthiga</td>\n",
              "      <td>Drama</td>\n",
              "      <td>Stories of Our Lives</td>\n",
              "      <td>unknown</td>\n",
              "    </tr>\n",
              "    <tr>\n",
              "      <th>4901</th>\n",
              "      <td>Jafar Panahi</td>\n",
              "      <td>Fereshteh Sadre Orafaiy</td>\n",
              "      <td>Nargess Mamizadeh</td>\n",
              "      <td>Mojgan Faramarzi</td>\n",
              "      <td>Drama</td>\n",
              "      <td>The Circle</td>\n",
              "      <td>abortion|bus|hospital|prison|prostitution</td>\n",
              "    </tr>\n",
              "    <tr>\n",
              "      <th>4904</th>\n",
              "      <td>Tadeo Garcia</td>\n",
              "      <td>Tatiana Suarez-Pico</td>\n",
              "      <td>Michael Cortez</td>\n",
              "      <td>Eric Ambriz</td>\n",
              "      <td>Drama</td>\n",
              "      <td>On the Downlow</td>\n",
              "      <td>gang initiation|gunplay|hazing|latino|shakespe...</td>\n",
              "    </tr>\n",
              "  </tbody>\n",
              "</table>\n",
              "<p>232 rows × 7 columns</p>\n",
              "</div>"
            ],
            "text/plain": [
              "          director_name             actor_1_name       actor_2_name  \\\n",
              "567        Oliver Stone           Frank Langella   Austin Pendleton   \n",
              "628         Mike Newell            Julia Roberts      Kirsten Dunst   \n",
              "642       David Fincher                Brad Pitt          Meat Loaf   \n",
              "709     Steven Zaillian            Robert Duvall   Kathleen Quinlan   \n",
              "1094       Gus Van Sant        F. Murray Abraham          Rob Brown   \n",
              "...                 ...                      ...                ...   \n",
              "4877  Bradley Rust Gray                Zoe Kazan       Mark Rendall   \n",
              "4892      Alex Kendrick           Shannen Fields        Lisa Arnold   \n",
              "4896         Jim Chuchu               Paul Ogola      Olwenya Maina   \n",
              "4901       Jafar Panahi  Fereshteh Sadre Orafaiy  Nargess Mamizadeh   \n",
              "4904       Tadeo Garcia      Tatiana Suarez-Pico     Michael Cortez   \n",
              "\n",
              "             actor_3_name genres                       movie_title  \\\n",
              "567   John Buffalo Mailer  Drama  Wall Street: Money Never Sleeps    \n",
              "628         Marian Seldes  Drama                  Mona Lisa Smile    \n",
              "642     Eugenie Bondurant  Drama                       Fight Club    \n",
              "709        Sydney Pollack  Drama                   A Civil Action    \n",
              "1094        Michael Nouri  Drama                Finding Forrester    \n",
              "...                   ...    ...                               ...   \n",
              "4877        Jordan Scovel  Drama               The Exploding Girl    \n",
              "4892     Janet Lee Dapper  Drama                         Flywheel    \n",
              "4896       Mugambi Nthiga  Drama             Stories of Our Lives    \n",
              "4901     Mojgan Faramarzi  Drama                       The Circle    \n",
              "4904          Eric Ambriz  Drama                   On the Downlow    \n",
              "\n",
              "                                          plot_keywords  \n",
              "567         corporate greed|crisis|economy|greed|mentor  \n",
              "628        art|college|school|student|wellesley college  \n",
              "642   anti establishment|dark humor|fighting|multipl...  \n",
              "709           1980s|law firm|lawsuit|lawyer|toxic waste  \n",
              "1094          basketball|mentor|new york|school|writing  \n",
              "...                                                 ...  \n",
              "4877        friend|hospital|low budget film|ring|stoned  \n",
              "4892  baby|car salesman|christian film|pregnancy|use...  \n",
              "4896                                            unknown  \n",
              "4901          abortion|bus|hospital|prison|prostitution  \n",
              "4904  gang initiation|gunplay|hazing|latino|shakespe...  \n",
              "\n",
              "[232 rows x 7 columns]"
            ]
          },
          "execution_count": 19,
          "metadata": {},
          "output_type": "execute_result"
        }
      ],
      "source": [
        "movies.loc[(movies.genres=='Drama')]"
      ]
    },
    {
      "cell_type": "markdown",
      "id": "0ef45de3",
      "metadata": {
        "pycharm": {
          "name": "#%% md\n"
        },
        "id": "0ef45de3"
      },
      "source": [
        "## Data Preprocessing\n",
        "\n",
        "Since we are processing text data, so we need to perform basic preprocessing skills.\n",
        "As we can observe from the above movies dataframe, there are\n",
        "- mix of low-case, upcase, special characters (|) ...\n",
        "- we need to combine them together as one text record for each movie in the data\n",
        "\n",
        "\n",
        "So, we need to\n",
        "- convert all upcases to lowercases\n",
        "- keep only a-z, A-Z, 0-9 by removing other special characters\n"
      ]
    },
    {
      "cell_type": "code",
      "execution_count": null,
      "id": "ebe73972",
      "metadata": {
        "pycharm": {
          "name": "#%%\n"
        },
        "id": "ebe73972"
      },
      "outputs": [],
      "source": [
        "# Build a function to apply the text cleaning techniques\n",
        "import re\n",
        "import string\n",
        "\n",
        "def clean_text_func(text):\n",
        "    '''Make text lowercase, removing special characters'''\n",
        "    text = text.lower()\n",
        "    # remove multiple whitespaces\n",
        "    text = re.sub('\\s+',' ', text)\n",
        "    # remove characters that not words\n",
        "    text=re.sub('[^a-zA-Z0-9]',' ',text)\n",
        "    return text\n",
        "\n",
        "clean_text = lambda x: clean_text_func(x)"
      ]
    },
    {
      "cell_type": "code",
      "execution_count": null,
      "id": "ded10892",
      "metadata": {
        "pycharm": {
          "name": "#%%\n"
        },
        "id": "ded10892"
      },
      "outputs": [],
      "source": [
        "# we apply the function on each column and store the result to a new column with original name_cleaned\n",
        "\n",
        "cols = movies.columns\n",
        "for col in cols:\n",
        "    movies[col+'_cleaned'] = movies[col].apply(clean_text)"
      ]
    },
    {
      "cell_type": "code",
      "execution_count": null,
      "id": "ed379d14",
      "metadata": {
        "pycharm": {
          "name": "#%%\n"
        },
        "id": "ed379d14",
        "outputId": "808eae4f-518e-44b7-b7ff-df5f2e30736e"
      },
      "outputs": [
        {
          "data": {
            "text/html": [
              "<div>\n",
              "<style scoped>\n",
              "    .dataframe tbody tr th:only-of-type {\n",
              "        vertical-align: middle;\n",
              "    }\n",
              "\n",
              "    .dataframe tbody tr th {\n",
              "        vertical-align: top;\n",
              "    }\n",
              "\n",
              "    .dataframe thead th {\n",
              "        text-align: right;\n",
              "    }\n",
              "</style>\n",
              "<table border=\"1\" class=\"dataframe\">\n",
              "  <thead>\n",
              "    <tr style=\"text-align: right;\">\n",
              "      <th></th>\n",
              "      <th>director_name</th>\n",
              "      <th>actor_1_name</th>\n",
              "      <th>actor_2_name</th>\n",
              "      <th>actor_3_name</th>\n",
              "      <th>genres</th>\n",
              "      <th>movie_title</th>\n",
              "      <th>plot_keywords</th>\n",
              "      <th>director_name_cleaned</th>\n",
              "      <th>actor_1_name_cleaned</th>\n",
              "      <th>actor_2_name_cleaned</th>\n",
              "      <th>actor_3_name_cleaned</th>\n",
              "      <th>genres_cleaned</th>\n",
              "      <th>movie_title_cleaned</th>\n",
              "      <th>plot_keywords_cleaned</th>\n",
              "    </tr>\n",
              "  </thead>\n",
              "  <tbody>\n",
              "    <tr>\n",
              "      <th>0</th>\n",
              "      <td>James Cameron</td>\n",
              "      <td>CCH Pounder</td>\n",
              "      <td>Joel David Moore</td>\n",
              "      <td>Wes Studi</td>\n",
              "      <td>Action|Adventure|Fantasy|Sci-Fi</td>\n",
              "      <td>Avatar</td>\n",
              "      <td>avatar|future|marine|native|paraplegic</td>\n",
              "      <td>james cameron</td>\n",
              "      <td>cch pounder</td>\n",
              "      <td>joel david moore</td>\n",
              "      <td>wes studi</td>\n",
              "      <td>action adventure fantasy sci fi</td>\n",
              "      <td>avatar</td>\n",
              "      <td>avatar future marine native paraplegic</td>\n",
              "    </tr>\n",
              "    <tr>\n",
              "      <th>1</th>\n",
              "      <td>Gore Verbinski</td>\n",
              "      <td>Johnny Depp</td>\n",
              "      <td>Orlando Bloom</td>\n",
              "      <td>Jack Davenport</td>\n",
              "      <td>Action|Adventure|Fantasy</td>\n",
              "      <td>Pirates of the Caribbean: At World's End</td>\n",
              "      <td>goddess|marriage ceremony|marriage proposal|pi...</td>\n",
              "      <td>gore verbinski</td>\n",
              "      <td>johnny depp</td>\n",
              "      <td>orlando bloom</td>\n",
              "      <td>jack davenport</td>\n",
              "      <td>action adventure fantasy</td>\n",
              "      <td>pirates of the caribbean  at world s end</td>\n",
              "      <td>goddess marriage ceremony marriage proposal pi...</td>\n",
              "    </tr>\n",
              "    <tr>\n",
              "      <th>2</th>\n",
              "      <td>Sam Mendes</td>\n",
              "      <td>Christoph Waltz</td>\n",
              "      <td>Rory Kinnear</td>\n",
              "      <td>Stephanie Sigman</td>\n",
              "      <td>Action|Adventure|Thriller</td>\n",
              "      <td>Spectre</td>\n",
              "      <td>bomb|espionage|sequel|spy|terrorist</td>\n",
              "      <td>sam mendes</td>\n",
              "      <td>christoph waltz</td>\n",
              "      <td>rory kinnear</td>\n",
              "      <td>stephanie sigman</td>\n",
              "      <td>action adventure thriller</td>\n",
              "      <td>spectre</td>\n",
              "      <td>bomb espionage sequel spy terrorist</td>\n",
              "    </tr>\n",
              "    <tr>\n",
              "      <th>3</th>\n",
              "      <td>Christopher Nolan</td>\n",
              "      <td>Tom Hardy</td>\n",
              "      <td>Christian Bale</td>\n",
              "      <td>Joseph Gordon-Levitt</td>\n",
              "      <td>Action|Thriller</td>\n",
              "      <td>The Dark Knight Rises</td>\n",
              "      <td>deception|imprisonment|lawlessness|police offi...</td>\n",
              "      <td>christopher nolan</td>\n",
              "      <td>tom hardy</td>\n",
              "      <td>christian bale</td>\n",
              "      <td>joseph gordon levitt</td>\n",
              "      <td>action thriller</td>\n",
              "      <td>the dark knight rises</td>\n",
              "      <td>deception imprisonment lawlessness police offi...</td>\n",
              "    </tr>\n",
              "    <tr>\n",
              "      <th>4</th>\n",
              "      <td>Doug Walker</td>\n",
              "      <td>Doug Walker</td>\n",
              "      <td>Rob Walker</td>\n",
              "      <td>unknown</td>\n",
              "      <td>Documentary</td>\n",
              "      <td>Star Wars: Episode VII - The Force Awakens    ...</td>\n",
              "      <td>unknown</td>\n",
              "      <td>doug walker</td>\n",
              "      <td>doug walker</td>\n",
              "      <td>rob walker</td>\n",
              "      <td>unknown</td>\n",
              "      <td>documentary</td>\n",
              "      <td>star wars  episode vii   the force awakens</td>\n",
              "      <td>unknown</td>\n",
              "    </tr>\n",
              "  </tbody>\n",
              "</table>\n",
              "</div>"
            ],
            "text/plain": [
              "       director_name     actor_1_name      actor_2_name          actor_3_name  \\\n",
              "0      James Cameron      CCH Pounder  Joel David Moore             Wes Studi   \n",
              "1     Gore Verbinski      Johnny Depp     Orlando Bloom        Jack Davenport   \n",
              "2         Sam Mendes  Christoph Waltz      Rory Kinnear      Stephanie Sigman   \n",
              "3  Christopher Nolan        Tom Hardy    Christian Bale  Joseph Gordon-Levitt   \n",
              "4        Doug Walker      Doug Walker        Rob Walker               unknown   \n",
              "\n",
              "                            genres  \\\n",
              "0  Action|Adventure|Fantasy|Sci-Fi   \n",
              "1         Action|Adventure|Fantasy   \n",
              "2        Action|Adventure|Thriller   \n",
              "3                  Action|Thriller   \n",
              "4                      Documentary   \n",
              "\n",
              "                                         movie_title  \\\n",
              "0                                            Avatar    \n",
              "1          Pirates of the Caribbean: At World's End    \n",
              "2                                           Spectre    \n",
              "3                             The Dark Knight Rises    \n",
              "4  Star Wars: Episode VII - The Force Awakens    ...   \n",
              "\n",
              "                                       plot_keywords director_name_cleaned  \\\n",
              "0             avatar|future|marine|native|paraplegic         james cameron   \n",
              "1  goddess|marriage ceremony|marriage proposal|pi...        gore verbinski   \n",
              "2                bomb|espionage|sequel|spy|terrorist            sam mendes   \n",
              "3  deception|imprisonment|lawlessness|police offi...     christopher nolan   \n",
              "4                                            unknown           doug walker   \n",
              "\n",
              "  actor_1_name_cleaned actor_2_name_cleaned  actor_3_name_cleaned  \\\n",
              "0          cch pounder     joel david moore             wes studi   \n",
              "1          johnny depp        orlando bloom        jack davenport   \n",
              "2      christoph waltz         rory kinnear      stephanie sigman   \n",
              "3            tom hardy       christian bale  joseph gordon levitt   \n",
              "4          doug walker           rob walker               unknown   \n",
              "\n",
              "                    genres_cleaned  \\\n",
              "0  action adventure fantasy sci fi   \n",
              "1         action adventure fantasy   \n",
              "2        action adventure thriller   \n",
              "3                  action thriller   \n",
              "4                      documentary   \n",
              "\n",
              "                           movie_title_cleaned  \\\n",
              "0                                      avatar    \n",
              "1    pirates of the caribbean  at world s end    \n",
              "2                                     spectre    \n",
              "3                       the dark knight rises    \n",
              "4  star wars  episode vii   the force awakens    \n",
              "\n",
              "                               plot_keywords_cleaned  \n",
              "0             avatar future marine native paraplegic  \n",
              "1  goddess marriage ceremony marriage proposal pi...  \n",
              "2                bomb espionage sequel spy terrorist  \n",
              "3  deception imprisonment lawlessness police offi...  \n",
              "4                                            unknown  "
            ]
          },
          "execution_count": 22,
          "metadata": {},
          "output_type": "execute_result"
        }
      ],
      "source": [
        "movies.head()"
      ]
    },
    {
      "cell_type": "code",
      "execution_count": null,
      "id": "ca7ff2d0",
      "metadata": {
        "pycharm": {
          "name": "#%%\n"
        },
        "id": "ca7ff2d0",
        "outputId": "c4f02086-8b43-4816-98bd-1f5e4d75a834"
      },
      "outputs": [
        {
          "data": {
            "text/plain": [
              "'avatar future marine native paraplegic'"
            ]
          },
          "execution_count": 23,
          "metadata": {},
          "output_type": "execute_result"
        }
      ],
      "source": [
        "movies.plot_keywords_cleaned[0]"
      ]
    },
    {
      "cell_type": "code",
      "execution_count": null,
      "id": "741f3c54",
      "metadata": {
        "pycharm": {
          "name": "#%%\n"
        },
        "id": "741f3c54",
        "outputId": "0b16d031-a44a-4dcb-b1d2-d899cea38daf"
      },
      "outputs": [
        {
          "data": {
            "text/plain": [
              "Index(['director_name', 'actor_1_name', 'actor_2_name', 'actor_3_name',\n",
              "       'genres', 'movie_title', 'plot_keywords', 'director_name_cleaned',\n",
              "       'actor_1_name_cleaned', 'actor_2_name_cleaned', 'actor_3_name_cleaned',\n",
              "       'genres_cleaned', 'movie_title_cleaned', 'plot_keywords_cleaned'],\n",
              "      dtype='object')"
            ]
          },
          "execution_count": 24,
          "metadata": {},
          "output_type": "execute_result"
        }
      ],
      "source": [
        "movies.columns"
      ]
    },
    {
      "cell_type": "markdown",
      "id": "eb9d9f6d",
      "metadata": {
        "pycharm": {
          "name": "#%% md\n"
        },
        "id": "eb9d9f6d"
      },
      "source": [
        "put all the information in one dataframe column"
      ]
    },
    {
      "cell_type": "code",
      "execution_count": null,
      "id": "2933ec9f",
      "metadata": {
        "pycharm": {
          "name": "#%%\n"
        },
        "id": "2933ec9f"
      },
      "outputs": [],
      "source": [
        "movies['all_data'] = movies[movies.columns[7:]].apply(\n",
        "    lambda x: ' '.join(x.astype(str)),\n",
        "    axis=1\n",
        ")"
      ]
    },
    {
      "cell_type": "code",
      "execution_count": null,
      "id": "7437212d",
      "metadata": {
        "pycharm": {
          "name": "#%%\n"
        },
        "id": "7437212d",
        "outputId": "b854aba6-b4d5-4a34-e62a-f1503bfd69b2"
      },
      "outputs": [
        {
          "data": {
            "text/html": [
              "<div>\n",
              "<style scoped>\n",
              "    .dataframe tbody tr th:only-of-type {\n",
              "        vertical-align: middle;\n",
              "    }\n",
              "\n",
              "    .dataframe tbody tr th {\n",
              "        vertical-align: top;\n",
              "    }\n",
              "\n",
              "    .dataframe thead th {\n",
              "        text-align: right;\n",
              "    }\n",
              "</style>\n",
              "<table border=\"1\" class=\"dataframe\">\n",
              "  <thead>\n",
              "    <tr style=\"text-align: right;\">\n",
              "      <th></th>\n",
              "      <th>director_name</th>\n",
              "      <th>actor_1_name</th>\n",
              "      <th>actor_2_name</th>\n",
              "      <th>actor_3_name</th>\n",
              "      <th>genres</th>\n",
              "      <th>movie_title</th>\n",
              "      <th>plot_keywords</th>\n",
              "      <th>director_name_cleaned</th>\n",
              "      <th>actor_1_name_cleaned</th>\n",
              "      <th>actor_2_name_cleaned</th>\n",
              "      <th>actor_3_name_cleaned</th>\n",
              "      <th>genres_cleaned</th>\n",
              "      <th>movie_title_cleaned</th>\n",
              "      <th>plot_keywords_cleaned</th>\n",
              "      <th>all_data</th>\n",
              "    </tr>\n",
              "  </thead>\n",
              "  <tbody>\n",
              "    <tr>\n",
              "      <th>0</th>\n",
              "      <td>James Cameron</td>\n",
              "      <td>CCH Pounder</td>\n",
              "      <td>Joel David Moore</td>\n",
              "      <td>Wes Studi</td>\n",
              "      <td>Action|Adventure|Fantasy|Sci-Fi</td>\n",
              "      <td>Avatar</td>\n",
              "      <td>avatar|future|marine|native|paraplegic</td>\n",
              "      <td>james cameron</td>\n",
              "      <td>cch pounder</td>\n",
              "      <td>joel david moore</td>\n",
              "      <td>wes studi</td>\n",
              "      <td>action adventure fantasy sci fi</td>\n",
              "      <td>avatar</td>\n",
              "      <td>avatar future marine native paraplegic</td>\n",
              "      <td>james cameron cch pounder joel david moore wes...</td>\n",
              "    </tr>\n",
              "    <tr>\n",
              "      <th>1</th>\n",
              "      <td>Gore Verbinski</td>\n",
              "      <td>Johnny Depp</td>\n",
              "      <td>Orlando Bloom</td>\n",
              "      <td>Jack Davenport</td>\n",
              "      <td>Action|Adventure|Fantasy</td>\n",
              "      <td>Pirates of the Caribbean: At World's End</td>\n",
              "      <td>goddess|marriage ceremony|marriage proposal|pi...</td>\n",
              "      <td>gore verbinski</td>\n",
              "      <td>johnny depp</td>\n",
              "      <td>orlando bloom</td>\n",
              "      <td>jack davenport</td>\n",
              "      <td>action adventure fantasy</td>\n",
              "      <td>pirates of the caribbean  at world s end</td>\n",
              "      <td>goddess marriage ceremony marriage proposal pi...</td>\n",
              "      <td>gore verbinski johnny depp orlando bloom jack ...</td>\n",
              "    </tr>\n",
              "    <tr>\n",
              "      <th>2</th>\n",
              "      <td>Sam Mendes</td>\n",
              "      <td>Christoph Waltz</td>\n",
              "      <td>Rory Kinnear</td>\n",
              "      <td>Stephanie Sigman</td>\n",
              "      <td>Action|Adventure|Thriller</td>\n",
              "      <td>Spectre</td>\n",
              "      <td>bomb|espionage|sequel|spy|terrorist</td>\n",
              "      <td>sam mendes</td>\n",
              "      <td>christoph waltz</td>\n",
              "      <td>rory kinnear</td>\n",
              "      <td>stephanie sigman</td>\n",
              "      <td>action adventure thriller</td>\n",
              "      <td>spectre</td>\n",
              "      <td>bomb espionage sequel spy terrorist</td>\n",
              "      <td>sam mendes christoph waltz rory kinnear stepha...</td>\n",
              "    </tr>\n",
              "    <tr>\n",
              "      <th>3</th>\n",
              "      <td>Christopher Nolan</td>\n",
              "      <td>Tom Hardy</td>\n",
              "      <td>Christian Bale</td>\n",
              "      <td>Joseph Gordon-Levitt</td>\n",
              "      <td>Action|Thriller</td>\n",
              "      <td>The Dark Knight Rises</td>\n",
              "      <td>deception|imprisonment|lawlessness|police offi...</td>\n",
              "      <td>christopher nolan</td>\n",
              "      <td>tom hardy</td>\n",
              "      <td>christian bale</td>\n",
              "      <td>joseph gordon levitt</td>\n",
              "      <td>action thriller</td>\n",
              "      <td>the dark knight rises</td>\n",
              "      <td>deception imprisonment lawlessness police offi...</td>\n",
              "      <td>christopher nolan tom hardy christian bale jos...</td>\n",
              "    </tr>\n",
              "    <tr>\n",
              "      <th>4</th>\n",
              "      <td>Doug Walker</td>\n",
              "      <td>Doug Walker</td>\n",
              "      <td>Rob Walker</td>\n",
              "      <td>unknown</td>\n",
              "      <td>Documentary</td>\n",
              "      <td>Star Wars: Episode VII - The Force Awakens    ...</td>\n",
              "      <td>unknown</td>\n",
              "      <td>doug walker</td>\n",
              "      <td>doug walker</td>\n",
              "      <td>rob walker</td>\n",
              "      <td>unknown</td>\n",
              "      <td>documentary</td>\n",
              "      <td>star wars  episode vii   the force awakens</td>\n",
              "      <td>unknown</td>\n",
              "      <td>doug walker doug walker rob walker unknown doc...</td>\n",
              "    </tr>\n",
              "  </tbody>\n",
              "</table>\n",
              "</div>"
            ],
            "text/plain": [
              "       director_name     actor_1_name      actor_2_name          actor_3_name  \\\n",
              "0      James Cameron      CCH Pounder  Joel David Moore             Wes Studi   \n",
              "1     Gore Verbinski      Johnny Depp     Orlando Bloom        Jack Davenport   \n",
              "2         Sam Mendes  Christoph Waltz      Rory Kinnear      Stephanie Sigman   \n",
              "3  Christopher Nolan        Tom Hardy    Christian Bale  Joseph Gordon-Levitt   \n",
              "4        Doug Walker      Doug Walker        Rob Walker               unknown   \n",
              "\n",
              "                            genres  \\\n",
              "0  Action|Adventure|Fantasy|Sci-Fi   \n",
              "1         Action|Adventure|Fantasy   \n",
              "2        Action|Adventure|Thriller   \n",
              "3                  Action|Thriller   \n",
              "4                      Documentary   \n",
              "\n",
              "                                         movie_title  \\\n",
              "0                                            Avatar    \n",
              "1          Pirates of the Caribbean: At World's End    \n",
              "2                                           Spectre    \n",
              "3                             The Dark Knight Rises    \n",
              "4  Star Wars: Episode VII - The Force Awakens    ...   \n",
              "\n",
              "                                       plot_keywords director_name_cleaned  \\\n",
              "0             avatar|future|marine|native|paraplegic         james cameron   \n",
              "1  goddess|marriage ceremony|marriage proposal|pi...        gore verbinski   \n",
              "2                bomb|espionage|sequel|spy|terrorist            sam mendes   \n",
              "3  deception|imprisonment|lawlessness|police offi...     christopher nolan   \n",
              "4                                            unknown           doug walker   \n",
              "\n",
              "  actor_1_name_cleaned actor_2_name_cleaned  actor_3_name_cleaned  \\\n",
              "0          cch pounder     joel david moore             wes studi   \n",
              "1          johnny depp        orlando bloom        jack davenport   \n",
              "2      christoph waltz         rory kinnear      stephanie sigman   \n",
              "3            tom hardy       christian bale  joseph gordon levitt   \n",
              "4          doug walker           rob walker               unknown   \n",
              "\n",
              "                    genres_cleaned  \\\n",
              "0  action adventure fantasy sci fi   \n",
              "1         action adventure fantasy   \n",
              "2        action adventure thriller   \n",
              "3                  action thriller   \n",
              "4                      documentary   \n",
              "\n",
              "                           movie_title_cleaned  \\\n",
              "0                                      avatar    \n",
              "1    pirates of the caribbean  at world s end    \n",
              "2                                     spectre    \n",
              "3                       the dark knight rises    \n",
              "4  star wars  episode vii   the force awakens    \n",
              "\n",
              "                               plot_keywords_cleaned  \\\n",
              "0             avatar future marine native paraplegic   \n",
              "1  goddess marriage ceremony marriage proposal pi...   \n",
              "2                bomb espionage sequel spy terrorist   \n",
              "3  deception imprisonment lawlessness police offi...   \n",
              "4                                            unknown   \n",
              "\n",
              "                                            all_data  \n",
              "0  james cameron cch pounder joel david moore wes...  \n",
              "1  gore verbinski johnny depp orlando bloom jack ...  \n",
              "2  sam mendes christoph waltz rory kinnear stepha...  \n",
              "3  christopher nolan tom hardy christian bale jos...  \n",
              "4  doug walker doug walker rob walker unknown doc...  "
            ]
          },
          "execution_count": 26,
          "metadata": {},
          "output_type": "execute_result"
        }
      ],
      "source": [
        "movies.head()"
      ]
    },
    {
      "cell_type": "code",
      "execution_count": null,
      "id": "cb32822c",
      "metadata": {
        "pycharm": {
          "name": "#%%\n"
        },
        "id": "cb32822c",
        "outputId": "b94452be-1162-4629-e8ab-00d6fa9d4da5"
      },
      "outputs": [
        {
          "data": {
            "text/plain": [
              "'james cameron cch pounder joel david moore wes studi action adventure fantasy sci fi avatar  avatar future marine native paraplegic'"
            ]
          },
          "execution_count": 27,
          "metadata": {},
          "output_type": "execute_result"
        }
      ],
      "source": [
        "movies.all_data[0]"
      ]
    },
    {
      "cell_type": "code",
      "execution_count": null,
      "id": "47d00672",
      "metadata": {
        "pycharm": {
          "name": "#%%\n"
        },
        "id": "47d00672"
      },
      "outputs": [],
      "source": [
        "# Import the wordcloud library\n",
        "from wordcloud import WordCloud\n",
        "\n",
        "def world_cloud_generate(long_string):\n",
        "\n",
        "    # create a worldcloud object\n",
        "    wordcloud = WordCloud(background_color=\"white\", max_words=50000,\n",
        "                     contour_width=3, contour_color='steelblue', width=500,height=300,\n",
        "                     repeat=False,include_numbers=False)\n",
        "    # Generate a world cloud\n",
        "    wordcloud.generate(long_string)\n",
        "\n",
        "    return wordcloud"
      ]
    },
    {
      "cell_type": "code",
      "execution_count": null,
      "id": "f37cd147",
      "metadata": {
        "pycharm": {
          "name": "#%%\n"
        },
        "id": "f37cd147",
        "outputId": "6255bdd7-6667-4918-8ed7-7fedf44bfa64"
      },
      "outputs": [
        {
          "data": {
            "image/png": "[encoded data removed]",
            "text/plain": [
              "<PIL.Image.Image image mode=RGB size=500x300 at 0x1CF1E252E88>"
            ]
          },
          "execution_count": 29,
          "metadata": {},
          "output_type": "execute_result"
        }
      ],
      "source": [
        "# Visualize the title of all the recipes in the dataset\n",
        "# Join the different processed title together\n",
        "long_string_title = ','.join(list(movies.all_data.values))\n",
        "wordcloud1 = world_cloud_generate(long_string_title)\n",
        "\n",
        "# Visualize the worldcloud\n",
        "wordcloud1.to_image()"
      ]
    },
    {
      "cell_type": "markdown",
      "id": "19617d1c",
      "metadata": {
        "pycharm": {
          "name": "#%% md\n"
        },
        "id": "19617d1c"
      },
      "source": [
        "## Prepare Text Data for the Machine Learning Model\n",
        "\n",
        "To feed the text data to a machine learning model, we need to convert text data to numerical data. There are a few ways to do this in natural language processing fields, such as\n",
        "- the bag-of-words model\n",
        "- word counts based Tokenization method\n",
        "- TF-IDF using TfidfVectorizer\n",
        "- Hashing WORDS\n",
        "\n",
        "In this demo file, the Tokenization method will be illustrated using the CountVectorizer procided by scikitlearn.\n",
        "\n",
        "\n",
        "References:\n",
        "1. Scikit-learn Working with Text Data https://scikit-learn.org/stable/tutorial/text_analytics/working_with_text_data.html\n",
        "2. Encode text data https://machinelearningmastery.com/prepare-text-data-machine-learning-scikit-learn/"
      ]
    },
    {
      "cell_type": "code",
      "execution_count": null,
      "id": "f0d1e6f3",
      "metadata": {
        "pycharm": {
          "name": "#%%\n"
        },
        "id": "f0d1e6f3"
      },
      "outputs": [],
      "source": [
        "import nltk\n",
        "from nltk import WordNetLemmatizer\n",
        "from nltk.corpus import stopwords\n",
        "\n",
        "def lemma_tokens(tokens, lemma):\n",
        "    lemma_result = [lemma.lemmatize(item) for item in tokens]\n",
        "    return(lemma_result)\n",
        "\n",
        "def tokenize(text):\n",
        "    lemma = nltk.WordNetLemmatizer()\n",
        "    text = re.sub(\"[^a-zA-Z]\", \" \", text)\n",
        "    tokens = nltk.word_tokenize(text)\n",
        "\n",
        "    # English Stop words\n",
        "    # Re-add the additional stop words since we are recreating the document-term matrix\n",
        "    stop_words = stopwords.words('english')\n",
        "\n",
        "    # Remove all stop words: no_stops\n",
        "    no_stops = [t for t in tokens if t not in stop_words]\n",
        "\n",
        "    lemma = lemma_tokens(no_stops, lemma)\n",
        "    return(lemma)"
      ]
    },
    {
      "cell_type": "code",
      "execution_count": null,
      "id": "6f4cabc1",
      "metadata": {
        "pycharm": {
          "name": "#%%\n"
        },
        "id": "6f4cabc1",
        "outputId": "4a99fbd7-9fb7-411c-8e95-ed8e6b0b17c5"
      },
      "outputs": [
        {
          "name": "stderr",
          "output_type": "stream",
          "text": [
            "[nltk_data] Downloading package stopwords to\n",
            "[nltk_data]     C:\\Users\\zhouj2\\AppData\\Roaming\\nltk_data...\n",
            "[nltk_data]   Package stopwords is already up-to-date!\n"
          ]
        }
      ],
      "source": [
        "from sklearn.feature_extraction.text import CountVectorizer\n",
        "import nltk\n",
        "nltk.download('stopwords')\n",
        "from nltk.corpus import stopwords\n",
        "\n",
        "# Re-add the additional stop words since we are recreating the document-term matrix\n",
        "stop_words = stopwords.words('english')\n",
        "\n",
        "# stop_words = text.ENGLISH_STOP_WORDS.union(add_stop_words)\n",
        "\n",
        "vect = CountVectorizer(stop_words= stop_words,\n",
        "                       analyzer='word',\n",
        "                       max_features = 2000,\n",
        "                       tokenizer = tokenize,\n",
        "                       lowercase = True,\n",
        "                       token_pattern='(?u)\\\\b\\\\w\\\\w\\\\w+\\\\b')\n",
        "\n",
        "# Fit and transform\n",
        "\n",
        "X = vect.fit_transform(movies.all_data)"
      ]
    },
    {
      "cell_type": "code",
      "execution_count": null,
      "id": "eb798241",
      "metadata": {
        "pycharm": {
          "name": "#%%\n"
        },
        "id": "eb798241",
        "outputId": "6cd1406b-fbe3-418c-ff15-471410cc17a2"
      },
      "outputs": [
        {
          "data": {
            "text/plain": [
              "(4917, 2000)"
            ]
          },
          "execution_count": 32,
          "metadata": {},
          "output_type": "execute_result"
        }
      ],
      "source": [
        "# check the shape of matrix X\n",
        "X.shape"
      ]
    },
    {
      "cell_type": "markdown",
      "id": "fec84b3a",
      "metadata": {
        "pycharm": {
          "name": "#%% md\n"
        },
        "id": "fec84b3a"
      },
      "source": [
        "X is the text data generated from the text file, and will be feed to the machine learning file later."
      ]
    },
    {
      "cell_type": "markdown",
      "id": "4d065b3f",
      "metadata": {
        "pycharm": {
          "name": "#%% md\n"
        },
        "id": "4d065b3f"
      },
      "source": [
        "## Using similarity measure results to Recommend Movies\n",
        "\n",
        "K-Nearest Neighbors"
      ]
    },
    {
      "cell_type": "code",
      "execution_count": null,
      "id": "b408f5fa",
      "metadata": {
        "pycharm": {
          "name": "#%%\n"
        },
        "id": "b408f5fa"
      },
      "outputs": [],
      "source": [
        "from sklearn.metrics.pairwise import cosine_similarity"
      ]
    },
    {
      "cell_type": "code",
      "execution_count": null,
      "id": "82e225f2",
      "metadata": {
        "pycharm": {
          "name": "#%%\n"
        },
        "id": "82e225f2"
      },
      "outputs": [],
      "source": [
        "def get_recommendation(query_movie_name, K):\n",
        "    cleaned_query = clean_text_func(query_movie_name)\n",
        "    unique_movie_titles = pd.Series(movies['movie_title_cleaned']).str.strip().unique()\n",
        "    matching_titles = unique_movie_titles[pd.Series(unique_movie_titles).str.contains(cleaned_query)]\n",
        "\n",
        "    matching_indices = [list(unique_movie_titles).index(title) for title in matching_titles]\n",
        "    query_vectors = X[matching_indices]\n",
        "\n",
        "    # measure the cosine similarity score between the query movie and all the movies in the dataset\n",
        "    similarity_scores = cosine_similarity(query_vectors, X)\n",
        "\n",
        "    top_indices = similarity_scores.argsort()[0][::-1][1:K+1]   #//gives index of similiar ones, 0 is the first row that stores index\n",
        "    #recommended_movies = unique_movie_titles[top_indices]\n",
        "\n",
        "    recommended_movies = movies.movie_title.iloc[top_indices].values\n",
        "\n",
        "    print(\"Since you watched: \",query_movie_name,\"\\nWe recommend you: \")\n",
        "    for moviename in recommended_movies:\n",
        "        print('  ', moviename)\n",
        "\n",
        "    #return list(recommended_movies)"
      ]
    },
    {
      "cell_type": "code",
      "execution_count": null,
      "id": "392b61f5",
      "metadata": {
        "pycharm": {
          "name": "#%%\n"
        },
        "id": "392b61f5",
        "outputId": "eae1235d-2395-42aa-a902-2530f36cbe2d"
      },
      "outputs": [
        {
          "name": "stdout",
          "output_type": "stream",
          "text": [
            "Since you watched:  Avatar \n",
            "We recommend you: \n",
            "   Terminator 2: Judgment Day \n",
            "   Zathura: A Space Adventure \n",
            "   The Wolverine \n",
            "   Destiny \n",
            "   Waterworld \n"
          ]
        }
      ],
      "source": [
        "# test case\n",
        "query_movie_name = \"Avatar\"\n",
        "K = 5\n",
        "\n",
        "get_recommendation(query_movie_name, K)"
      ]
    },
    {
      "cell_type": "code",
      "execution_count": null,
      "id": "ae8958ee",
      "metadata": {
        "pycharm": {
          "name": "#%%\n"
        },
        "id": "ae8958ee",
        "outputId": "407f1e6b-10cf-43b6-e1e7-96ff7532ace0"
      },
      "outputs": [
        {
          "name": "stdout",
          "output_type": "stream",
          "text": [
            "Since you watched:  harry potter \n",
            "We recommend you: \n",
            "   Harry Potter and the Order of the Phoenix \n",
            "   Harry Potter and the Chamber of Secrets \n",
            "   Harry Potter and the Prisoner of Azkaban \n",
            "   Harry Potter and the Goblet of Fire \n",
            "   Osmosis Jones \n"
          ]
        }
      ],
      "source": [
        "# test case\n",
        "query_movie_name = \"harry potter\"\n",
        "K = 5\n",
        "\n",
        "get_recommendation(query_movie_name, K)"
      ]
    },
    {
      "cell_type": "code",
      "execution_count": null,
      "id": "28323341",
      "metadata": {
        "pycharm": {
          "name": "#%%\n"
        },
        "id": "28323341",
        "outputId": "91d9c750-2493-4580-e5ec-0e166c59cdd8"
      },
      "outputs": [
        {
          "name": "stdout",
          "output_type": "stream",
          "text": [
            "Since you watched:  Donnie Darko \n",
            "We recommend you: \n",
            "   Courageous \n",
            "   Funny Ha Ha \n",
            "   Mutual Appreciation \n",
            "   Blazing Saddles \n",
            "   The Intern \n"
          ]
        }
      ],
      "source": [
        "# test case\n",
        "K = 5 #-- list first K recommended movie names\n",
        "\n",
        "query = 'Donnie Darko'\n",
        "\n",
        "get_recommendation(query, K)"
      ]
    },
    {
      "cell_type": "code",
      "execution_count": null,
      "id": "eda95a37",
      "metadata": {
        "pycharm": {
          "name": "#%%\n"
        },
        "id": "eda95a37"
      },
      "outputs": [],
      "source": []
    }
  ],
  "metadata": {
    "kernelspec": {
      "display_name": "Python 3 (ipykernel)",
      "language": "python",
      "name": "python3"
    },
    "language_info": {
      "codemirror_mode": {
        "name": "ipython",
        "version": 3
      },
      "file_extension": ".py",
      "mimetype": "text/x-python",
      "name": "python",
      "nbconvert_exporter": "python",
      "pygments_lexer": "ipython3",
      "version": "3.7.12"
    },
    "colab": {
      "provenance": [],
      "include_colab_link": true
    }
  },
  "nbformat": 4,
  "nbformat_minor": 5
}